{
 "cells": [
  {
   "cell_type": "code",
   "execution_count": 1,
   "id": "9fc49a8f",
   "metadata": {},
   "outputs": [
    {
     "name": "stdout",
     "output_type": "stream",
     "text": [
      "WARNING:tensorflow:From <ipython-input-1-a729620180fb>:2: read_data_sets (from tensorflow.contrib.learn.python.learn.datasets.mnist) is deprecated and will be removed in a future version.\n",
      "Instructions for updating:\n",
      "Please use alternatives such as official/mnist/dataset.py from tensorflow/models.\n"
     ]
    },
    {
     "name": "stderr",
     "output_type": "stream",
     "text": [
      "WARNING:tensorflow:From <ipython-input-1-a729620180fb>:2: read_data_sets (from tensorflow.contrib.learn.python.learn.datasets.mnist) is deprecated and will be removed in a future version.\n",
      "Instructions for updating:\n",
      "Please use alternatives such as official/mnist/dataset.py from tensorflow/models.\n"
     ]
    },
    {
     "name": "stdout",
     "output_type": "stream",
     "text": [
      "WARNING:tensorflow:From C:\\Users\\chunc\\anaconda3\\envs\\tensorflow_v1\\lib\\site-packages\\tensorflow_core\\contrib\\learn\\python\\learn\\datasets\\mnist.py:260: maybe_download (from tensorflow.contrib.learn.python.learn.datasets.base) is deprecated and will be removed in a future version.\n",
      "Instructions for updating:\n",
      "Please write your own downloading logic.\n"
     ]
    },
    {
     "name": "stderr",
     "output_type": "stream",
     "text": [
      "WARNING:tensorflow:From C:\\Users\\chunc\\anaconda3\\envs\\tensorflow_v1\\lib\\site-packages\\tensorflow_core\\contrib\\learn\\python\\learn\\datasets\\mnist.py:260: maybe_download (from tensorflow.contrib.learn.python.learn.datasets.base) is deprecated and will be removed in a future version.\n",
      "Instructions for updating:\n",
      "Please write your own downloading logic.\n"
     ]
    },
    {
     "name": "stdout",
     "output_type": "stream",
     "text": [
      "WARNING:tensorflow:From C:\\Users\\chunc\\anaconda3\\envs\\tensorflow_v1\\lib\\site-packages\\tensorflow_core\\contrib\\learn\\python\\learn\\datasets\\mnist.py:262: extract_images (from tensorflow.contrib.learn.python.learn.datasets.mnist) is deprecated and will be removed in a future version.\n",
      "Instructions for updating:\n",
      "Please use tf.data to implement this functionality.\n"
     ]
    },
    {
     "name": "stderr",
     "output_type": "stream",
     "text": [
      "WARNING:tensorflow:From C:\\Users\\chunc\\anaconda3\\envs\\tensorflow_v1\\lib\\site-packages\\tensorflow_core\\contrib\\learn\\python\\learn\\datasets\\mnist.py:262: extract_images (from tensorflow.contrib.learn.python.learn.datasets.mnist) is deprecated and will be removed in a future version.\n",
      "Instructions for updating:\n",
      "Please use tf.data to implement this functionality.\n"
     ]
    },
    {
     "name": "stdout",
     "output_type": "stream",
     "text": [
      "Extracting /tmp/data/train-images-idx3-ubyte.gz\n",
      "ERROR! Session/line number was not unique in database. History logging moved to new session 170\n",
      "WARNING:tensorflow:From C:\\Users\\chunc\\anaconda3\\envs\\tensorflow_v1\\lib\\site-packages\\tensorflow_core\\contrib\\learn\\python\\learn\\datasets\\mnist.py:267: extract_labels (from tensorflow.contrib.learn.python.learn.datasets.mnist) is deprecated and will be removed in a future version.\n",
      "Instructions for updating:\n",
      "Please use tf.data to implement this functionality.\n"
     ]
    },
    {
     "name": "stderr",
     "output_type": "stream",
     "text": [
      "WARNING:tensorflow:From C:\\Users\\chunc\\anaconda3\\envs\\tensorflow_v1\\lib\\site-packages\\tensorflow_core\\contrib\\learn\\python\\learn\\datasets\\mnist.py:267: extract_labels (from tensorflow.contrib.learn.python.learn.datasets.mnist) is deprecated and will be removed in a future version.\n",
      "Instructions for updating:\n",
      "Please use tf.data to implement this functionality.\n"
     ]
    },
    {
     "name": "stdout",
     "output_type": "stream",
     "text": [
      "Extracting /tmp/data/train-labels-idx1-ubyte.gz\n",
      "WARNING:tensorflow:From C:\\Users\\chunc\\anaconda3\\envs\\tensorflow_v1\\lib\\site-packages\\tensorflow_core\\contrib\\learn\\python\\learn\\datasets\\mnist.py:110: dense_to_one_hot (from tensorflow.contrib.learn.python.learn.datasets.mnist) is deprecated and will be removed in a future version.\n",
      "Instructions for updating:\n",
      "Please use tf.one_hot on tensors.\n"
     ]
    },
    {
     "name": "stderr",
     "output_type": "stream",
     "text": [
      "WARNING:tensorflow:From C:\\Users\\chunc\\anaconda3\\envs\\tensorflow_v1\\lib\\site-packages\\tensorflow_core\\contrib\\learn\\python\\learn\\datasets\\mnist.py:110: dense_to_one_hot (from tensorflow.contrib.learn.python.learn.datasets.mnist) is deprecated and will be removed in a future version.\n",
      "Instructions for updating:\n",
      "Please use tf.one_hot on tensors.\n"
     ]
    },
    {
     "name": "stdout",
     "output_type": "stream",
     "text": [
      "Extracting /tmp/data/t10k-images-idx3-ubyte.gz\n",
      "Extracting /tmp/data/t10k-labels-idx1-ubyte.gz\n",
      "WARNING:tensorflow:From C:\\Users\\chunc\\anaconda3\\envs\\tensorflow_v1\\lib\\site-packages\\tensorflow_core\\contrib\\learn\\python\\learn\\datasets\\mnist.py:290: DataSet.__init__ (from tensorflow.contrib.learn.python.learn.datasets.mnist) is deprecated and will be removed in a future version.\n",
      "Instructions for updating:\n",
      "Please use alternatives such as official/mnist/dataset.py from tensorflow/models.\n"
     ]
    },
    {
     "name": "stderr",
     "output_type": "stream",
     "text": [
      "WARNING:tensorflow:From C:\\Users\\chunc\\anaconda3\\envs\\tensorflow_v1\\lib\\site-packages\\tensorflow_core\\contrib\\learn\\python\\learn\\datasets\\mnist.py:290: DataSet.__init__ (from tensorflow.contrib.learn.python.learn.datasets.mnist) is deprecated and will be removed in a future version.\n",
      "Instructions for updating:\n",
      "Please use alternatives such as official/mnist/dataset.py from tensorflow/models.\n"
     ]
    }
   ],
   "source": [
    "from tensorflow.examples.tutorials.mnist import input_data\n",
    "mnist_ = input_data.read_data_sets(\"/tmp/data/\", one_hot = True)"
   ]
  },
  {
   "cell_type": "code",
   "execution_count": 2,
   "id": "520eba91",
   "metadata": {},
   "outputs": [
    {
     "name": "stderr",
     "output_type": "stream",
     "text": [
      "Using TensorFlow backend.\n"
     ]
    }
   ],
   "source": [
    "import tensorflow as tf\n",
    "from tensorflow.keras.datasets import mnist\n",
    "\n",
    "#Importing data\n",
    "(x_train, y_train), (x_test, y_test) = mnist.load_data()\n",
    "image_vector_size = 28*28\n",
    "\n",
    "#Normalization\n",
    "x_train = x_train.astype(float) / 255.\n",
    "x_test = x_test.astype(float) / 255.\n",
    "\n",
    "#Flattening Feature\n",
    "x_train = x_train.reshape(x_train.shape[0], image_vector_size)\n",
    "x_test = x_test.reshape(x_test.shape[0], image_vector_size)\n",
    "\n",
    "#Converting Target variable from scaler to softmax class\n",
    "import keras\n",
    "num_classes = 10\n",
    "y_train = keras.utils.to_categorical(y_train, num_classes)\n",
    "y_test = keras.utils.to_categorical(y_test, num_classes)"
   ]
  },
  {
   "cell_type": "code",
   "execution_count": 3,
   "id": "1f9d0a37",
   "metadata": {},
   "outputs": [],
   "source": [
    "#Parameters\n",
    "learning_rate = 0.001\n",
    "training_epochs = 20\n",
    "N = 784\n",
    "n_hidden_1 = 392 # N/2\n",
    "n_hidden_2 = 196 # N/4\n",
    "n_input = N\n",
    "n_classes = 10\n",
    "batch_size = 100\n",
    "x = tf.placeholder(\"float\",[None,n_input])\n",
    "y = tf.placeholder(\"float\",[None,n_classes])"
   ]
  },
  {
   "cell_type": "code",
   "execution_count": 4,
   "id": "ec6b4e0c",
   "metadata": {},
   "outputs": [],
   "source": [
    "# 1st Hidden Layer\n",
    "weight_hidden_1 = tf.Variable(tf.random_normal([n_input,n_hidden_1]))\n",
    "bias_hidden_1   = tf.Variable(tf.random_normal([n_hidden_1]))\n",
    "output_hidden_1 = tf.nn.relu(tf.add(tf.matmul(x,weight_hidden_1),bias_hidden_1))"
   ]
  },
  {
   "cell_type": "code",
   "execution_count": 5,
   "id": "b2057c3f",
   "metadata": {},
   "outputs": [],
   "source": [
    "#2nd Hidden Layer\n",
    "weight_hidden_2 = tf.Variable(tf.random_normal([n_hidden_1,n_hidden_2]))\n",
    "bias_hidden_2   = tf.Variable(tf.random_normal([n_hidden_2]))\n",
    "output_hidden_2 = tf.nn.sigmoid(tf.add(tf.matmul(output_hidden_1,weight_hidden_2),bias_hidden_2))"
   ]
  },
  {
   "cell_type": "code",
   "execution_count": 6,
   "id": "05f281ec",
   "metadata": {},
   "outputs": [],
   "source": [
    "#Output Layer\n",
    "weight_output = tf.Variable(tf.random_normal([n_hidden_2,n_classes]))\n",
    "bias_output   = tf.Variable(tf.random_normal([n_classes]))\n",
    "final_output  = tf.matmul(output_hidden_2,weight_output) + bias_output"
   ]
  },
  {
   "cell_type": "code",
   "execution_count": 7,
   "id": "898deed1",
   "metadata": {},
   "outputs": [],
   "source": [
    "#Loss Function = (y - y_pred)^2 / size\n",
    "# loss = tf.reduce_mean(tf.math.squared_difference(y,tf.nn.softmax(final_output)))"
   ]
  },
  {
   "cell_type": "code",
   "execution_count": 8,
   "id": "4b23bddc",
   "metadata": {},
   "outputs": [],
   "source": [
    "#Loss Function = (y - y_pred)^4/size\n",
    "# loss = tf.reduce_mean((y - tf.nn.softmax(final_output))**4)"
   ]
  },
  {
   "cell_type": "code",
   "execution_count": 9,
   "id": "ee975da7",
   "metadata": {},
   "outputs": [
    {
     "name": "stdout",
     "output_type": "stream",
     "text": [
      "WARNING:tensorflow:From C:\\Users\\chunc\\anaconda3\\envs\\tensorflow_v1\\lib\\site-packages\\tensorflow_core\\python\\ops\\nn_impl.py:183: where (from tensorflow.python.ops.array_ops) is deprecated and will be removed in a future version.\n",
      "Instructions for updating:\n",
      "Use tf.where in 2.0, which has the same broadcast rule as np.where\n"
     ]
    },
    {
     "name": "stderr",
     "output_type": "stream",
     "text": [
      "WARNING:tensorflow:From C:\\Users\\chunc\\anaconda3\\envs\\tensorflow_v1\\lib\\site-packages\\tensorflow_core\\python\\ops\\nn_impl.py:183: where (from tensorflow.python.ops.array_ops) is deprecated and will be removed in a future version.\n",
      "Instructions for updating:\n",
      "Use tf.where in 2.0, which has the same broadcast rule as np.where\n"
     ]
    }
   ],
   "source": [
    "loss = tf.reduce_mean(tf.nn.sigmoid_cross_entropy_with_logits(\n",
    "   logits = final_output, labels = y)) "
   ]
  },
  {
   "cell_type": "code",
   "execution_count": 10,
   "id": "27b395b0",
   "metadata": {},
   "outputs": [],
   "source": [
    "#Error function\n",
    "error = tf.reduce_mean(tf.math.squared_difference(y,tf.nn.softmax(final_output)))"
   ]
  },
  {
   "cell_type": "code",
   "execution_count": 11,
   "id": "9570001e",
   "metadata": {},
   "outputs": [],
   "source": [
    "activated_output = tf.nn.softmax(final_output)"
   ]
  },
  {
   "cell_type": "code",
   "execution_count": 12,
   "id": "4aab93c3",
   "metadata": {},
   "outputs": [],
   "source": [
    "#Optimizer\n",
    "optimizer = tf.train.AdamOptimizer(learning_rate = learning_rate).minimize(loss)\n",
    "correct_prediction = tf.equal(tf.argmax(tf.nn.softmax(final_output), 1), tf.argmax(y, 1))\n",
    "accuracy = tf.reduce_mean(tf.cast(correct_prediction, \"float\"))         "
   ]
  },
  {
   "cell_type": "code",
   "execution_count": null,
   "id": "fcfdffaf",
   "metadata": {},
   "outputs": [],
   "source": [
    "#Brute Force Meathod - \n",
    "init = tf.global_variables_initializer()\n",
    "with tf.Session() as sess:\n",
    "    sess.run(init)    \n",
    "    for epoch in range(training_epochs):        \n",
    "        print(epoch)        \n",
    "        for i in range(100):            \n",
    "            sess.run(optimizer,feed_dict={\n",
    "                x: x_train,\n",
    "                y: y_train\n",
    "            }) \n",
    "        correct_prediction = tf.equal(tf.argmax(final_output, 1), tf.argmax(y, 1))       \n",
    "        accuracy = tf.reduce_mean(tf.cast(correct_prediction, \"float\")) \n",
    "        print(\"Model Accuracy:\", accuracy.eval({x: x_test, y: y_test}))\n",
    "    correct_prediction = tf.equal(tf.argmax(final_output, 1), tf.argmax(y, 1))       \n",
    "    accuracy = tf.reduce_mean(tf.cast(correct_prediction, \"float\")) \n",
    "    print(\"Model Accuracy:\", accuracy.eval({x: x_test, y: y_test}))    "
   ]
  },
  {
   "cell_type": "code",
   "execution_count": null,
   "id": "8e06cddf",
   "metadata": {},
   "outputs": [
    {
     "name": "stdout",
     "output_type": "stream",
     "text": [
      "ERROR! Session/line number was not unique in database. History logging moved to new session 171\n",
      "0\n",
      "Model Accuracy: 0.73\n",
      "1\n",
      "Model Accuracy: 0.8232\n",
      "2\n",
      "Model Accuracy: 0.8635\n",
      "3\n",
      "Model Accuracy: 0.8856\n",
      "4\n",
      "Model Accuracy: 0.8964\n",
      "5\n",
      "Model Accuracy: 0.9055\n",
      "6\n",
      "Model Accuracy: 0.9144\n",
      "7\n",
      "Model Accuracy: 0.921\n",
      "8\n",
      "Model Accuracy: 0.9261\n",
      "9\n",
      "Model Accuracy: 0.9294\n",
      "10\n",
      "Model Accuracy: 0.931\n",
      "11\n",
      "Model Accuracy: 0.9354\n",
      "12\n",
      "Model Accuracy: 0.9358\n",
      "13\n",
      "Model Accuracy: 0.9389\n",
      "14\n",
      "Model Accuracy: 0.9413\n",
      "15\n",
      "Model Accuracy: 0.9432\n",
      "16\n",
      "Model Accuracy: 0.9449\n",
      "17\n",
      "Model Accuracy: 0.9463\n",
      "18\n",
      "Model Accuracy: 0.9483\n",
      "19\n",
      "Model Accuracy: 0.9501\n",
      "20\n",
      "Model Accuracy: 0.9507\n",
      "21\n",
      "Model Accuracy: 0.9526\n",
      "22\n",
      "Model Accuracy: 0.9529\n",
      "23\n",
      "Model Accuracy: 0.9526\n",
      "24\n",
      "Model Accuracy: 0.9565\n",
      "25\n",
      "Model Accuracy: 0.9555\n",
      "26\n",
      "Model Accuracy: 0.956\n",
      "27\n",
      "Model Accuracy: 0.9588\n",
      "28\n",
      "Model Accuracy: 0.958\n",
      "29\n",
      "Model Accuracy: 0.9592\n",
      "30\n",
      "Model Accuracy: 0.9601\n",
      "31\n",
      "Model Accuracy: 0.9595\n",
      "32\n",
      "Model Accuracy: 0.9604\n",
      "33\n",
      "Model Accuracy: 0.9616\n",
      "34\n",
      "Model Accuracy: 0.9626\n",
      "35\n",
      "Model Accuracy: 0.9599\n",
      "36\n",
      "Model Accuracy: 0.9628\n",
      "37\n",
      "Model Accuracy: 0.9625\n",
      "38\n",
      "Model Accuracy: 0.9642\n",
      "39\n",
      "Model Accuracy: 0.964\n",
      "40\n",
      "Model Accuracy: 0.964\n",
      "41\n",
      "Model Accuracy: 0.9632\n",
      "42\n",
      "Model Accuracy: 0.9635\n",
      "43\n",
      "Model Accuracy: 0.9632\n",
      "44\n",
      "Model Accuracy: 0.9668\n",
      "45\n",
      "Model Accuracy: 0.965\n",
      "46\n",
      "Model Accuracy: 0.9674\n",
      "47\n",
      "Model Accuracy: 0.9657\n",
      "48\n",
      "Model Accuracy: 0.9664\n",
      "49\n",
      "Model Accuracy: 0.965\n",
      "50\n",
      "Model Accuracy: 0.9674\n",
      "51\n",
      "Model Accuracy: 0.9678\n",
      "52\n",
      "Model Accuracy: 0.9687\n",
      "53\n",
      "Model Accuracy: 0.9667\n",
      "54\n",
      "Model Accuracy: 0.9672\n",
      "55\n",
      "Model Accuracy: 0.9692\n",
      "56\n",
      "Model Accuracy: 0.9671\n",
      "57\n",
      "Model Accuracy: 0.967\n",
      "58\n",
      "Model Accuracy: 0.9687\n",
      "59\n",
      "Model Accuracy: 0.9665\n",
      "60\n"
     ]
    }
   ],
   "source": [
    "#Graph starting\n",
    "init = tf.global_variables_initializer()\n",
    "mse_loss_list = []\n",
    "epoch_list = []\n",
    "with tf.Session() as sess:\n",
    "    \n",
    "    sess.run(init)    \n",
    "    for epoch in range(100):                  \n",
    "        \n",
    "        print(epoch)\n",
    "        avg_cost = 0. \n",
    "        total_batch = int(mnist_.train.num_examples / batch_size)             \n",
    "        for i in range(total_batch):             \n",
    "            batch_xs, batch_ys = mnist_.train.next_batch(batch_size)          \n",
    "            sess.run(optimizer, feed_dict = {\n",
    "            x: batch_xs, y: batch_ys})\n",
    "        \n",
    "        \n",
    "        correct_prediction = tf.equal(tf.argmax(final_output, 1), tf.argmax(y, 1))       \n",
    "        accuracy = tf.reduce_mean(tf.cast(correct_prediction, \"float\")) \n",
    "        print(\"Model Accuracy:\", accuracy.eval({x: x_test, y: y_test}))\n",
    "        \n",
    "        mse_loss_list.append(sess.run(error,feed_dict={\n",
    "            x: mnist_.test.images, y: mnist_.test.labels\n",
    "        }))\n",
    "        epoch_list.append(epoch+1)\n",
    "        \n",
    "    correct_prediction = tf.equal(tf.argmax(final_output, 1), tf.argmax(y, 1))       \n",
    "    accuracy = tf.reduce_mean(tf.cast(correct_prediction, \"float\")) \n",
    "    print(\"Model Accuracy:\", accuracy.eval({x: mnist_.test.images, y: mnist_.test.labels}))"
   ]
  },
  {
   "cell_type": "code",
   "execution_count": null,
   "id": "ac443747",
   "metadata": {},
   "outputs": [],
   "source": [
    "import matplotlib.pyplot as plt\n",
    "%matplotlib inline"
   ]
  },
  {
   "cell_type": "code",
   "execution_count": null,
   "id": "00336632",
   "metadata": {},
   "outputs": [],
   "source": [
    "plt.plot(epoch_list,mse_loss_list)\n",
    "plt.ylabel(\"Mean Sqaure Error ->\")\n",
    "plt.xlabel(\"Epoch ->\")"
   ]
  },
  {
   "cell_type": "code",
   "execution_count": null,
   "id": "7c579530",
   "metadata": {},
   "outputs": [],
   "source": []
  }
 ],
 "metadata": {
  "kernelspec": {
   "display_name": "Python 3",
   "language": "python",
   "name": "python3"
  },
  "language_info": {
   "codemirror_mode": {
    "name": "ipython",
    "version": 3
   },
   "file_extension": ".py",
   "mimetype": "text/x-python",
   "name": "python",
   "nbconvert_exporter": "python",
   "pygments_lexer": "ipython3",
   "version": "3.7.10"
  }
 },
 "nbformat": 4,
 "nbformat_minor": 5
}
