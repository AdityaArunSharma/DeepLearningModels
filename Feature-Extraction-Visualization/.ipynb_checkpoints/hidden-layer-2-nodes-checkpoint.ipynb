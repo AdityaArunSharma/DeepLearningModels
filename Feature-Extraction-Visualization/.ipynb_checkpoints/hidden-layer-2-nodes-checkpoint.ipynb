{
 "cells": [
  {
   "cell_type": "code",
   "execution_count": 47,
   "id": "f83d63cb",
   "metadata": {},
   "outputs": [
    {
     "name": "stdout",
     "output_type": "stream",
     "text": [
      "Extracting /tmp/data/train-images-idx3-ubyte.gz\n",
      "Extracting /tmp/data/train-labels-idx1-ubyte.gz\n",
      "Extracting /tmp/data/t10k-images-idx3-ubyte.gz\n",
      "Extracting /tmp/data/t10k-labels-idx1-ubyte.gz\n"
     ]
    }
   ],
   "source": [
    "import tensorflow as tf\n",
    "import matplotlib.pyplot as plt\n",
    "%matplotlib inline\n",
    "from IPython.display import clear_output\n",
    "from tensorflow.examples.tutorials.mnist import input_data\n",
    "mnist2 = input_data.read_data_sets(\"/tmp/data/\", one_hot = True)"
   ]
  },
  {
   "cell_type": "code",
   "execution_count": 48,
   "id": "21546359",
   "metadata": {},
   "outputs": [],
   "source": [
    "from tensorflow.keras.datasets import mnist\n",
    "#Importing data\n",
    "(x_train, y_train), (x_test, y_test) = mnist.load_data()\n",
    "image_vector_size = 28*28\n",
    "#Normalization\n",
    "x_train = x_train.astype(float)/255\n",
    "x_test = x_test.astype(float)/255\n",
    "\n",
    "x_test = x_test.reshape(x_test.shape[0], image_vector_size)"
   ]
  },
  {
   "cell_type": "code",
   "execution_count": 49,
   "id": "c77315c1",
   "metadata": {},
   "outputs": [],
   "source": [
    "#Parameters\n",
    "learning_rate = 0.001\n",
    "training_epoch = 200\n",
    "N = 784\n",
    "n_hidden_1 = 392\n",
    "n_hidden_2 = 196\n",
    "n_hidden_3 = 2\n",
    "n_hidden_4 = 392\n",
    "batch_size = 50\n",
    "n_input = N\n",
    "x = tf.placeholder(\"float\",[None,n_input])\n",
    "y = tf.placeholder(\"float\",[None,n_input])\n",
    "test_examples = 500\n",
    "import numpy as np\n",
    "random_indexs = np.random.randint(low=0,high=len(x_test)-1,size = test_examples)"
   ]
  },
  {
   "cell_type": "code",
   "execution_count": 50,
   "id": "67801b1d",
   "metadata": {},
   "outputs": [],
   "source": [
    "#1st Hidden layer N/2\n",
    "weight_hidden_1 = tf.Variable(tf.truncated_normal([n_input,n_hidden_1],stddev=0.1))\n",
    "bias_hidden_1   = tf.Variable(tf.constant(0.1,shape = [n_hidden_1]))\n",
    "output_hidden_1 = tf.nn.relu(tf.add(tf.matmul(x,weight_hidden_1),bias_hidden_1))"
   ]
  },
  {
   "cell_type": "code",
   "execution_count": 51,
   "id": "0e44bf2a",
   "metadata": {},
   "outputs": [],
   "source": [
    "#2nd Hidden Layer N/4\n",
    "weight_hidden_2 = tf.Variable(tf.truncated_normal([n_hidden_1,n_hidden_2],stddev=0.1))\n",
    "bias_hidden_2   = tf.Variable(tf.constant(0.1,shape=[n_hidden_2]))\n",
    "output_hidden_2 = tf.nn.sigmoid(tf.add(tf.matmul(output_hidden_1,weight_hidden_2),bias_hidden_2))"
   ]
  },
  {
   "cell_type": "code",
   "execution_count": 52,
   "id": "e2d84102",
   "metadata": {},
   "outputs": [],
   "source": [
    "#3rd Hidden Layer 2\n",
    "weight_hidden_3 = tf.Variable(tf.truncated_normal([n_hidden_2,n_hidden_3],stddev=0.1))\n",
    "bias_hidden_3   = tf.Variable(tf.constant(0.1,shape=[n_hidden_3]))\n",
    "output_hidden_3 = tf.nn.sigmoid(tf.add(tf.matmul(output_hidden_2,weight_hidden_3),bias_hidden_3))"
   ]
  },
  {
   "cell_type": "code",
   "execution_count": 53,
   "id": "6f94843c",
   "metadata": {},
   "outputs": [],
   "source": [
    "#4th Hidden Layer N/2\n",
    "weight_hidden_4 = tf.Variable(tf.truncated_normal([n_hidden_3,n_hidden_4],stddev=0.1))\n",
    "bias_hidden_4   = tf.Variable(tf.constant(0.1,shape=[n_hidden_4]))\n",
    "output_hidden_4 = tf.nn.relu(tf.add(tf.matmul(output_hidden_3,weight_hidden_4),bias_hidden_4))"
   ]
  },
  {
   "cell_type": "code",
   "execution_count": 54,
   "id": "8efb6f5e",
   "metadata": {},
   "outputs": [],
   "source": [
    "#Output Layer N\n",
    "weight_output = tf.Variable(tf.truncated_normal([n_hidden_4,n_input],stddev=0.1))\n",
    "bias_output   = tf.Variable(tf.constant(0.1,shape=[n_input]))\n",
    "output_output = tf.nn.sigmoid(tf.add(tf.matmul(output_hidden_4,weight_output),bias_output))"
   ]
  },
  {
   "cell_type": "code",
   "execution_count": 55,
   "id": "8d72a1d3",
   "metadata": {},
   "outputs": [],
   "source": [
    "loss = tf.reduce_mean(tf.squared_difference(y,output_output))\n",
    "optimizer = tf.train.AdamOptimizer(learning_rate = learning_rate).minimize(loss)"
   ]
  },
  {
   "cell_type": "code",
   "execution_count": 56,
   "id": "c8a1ee27",
   "metadata": {},
   "outputs": [],
   "source": [
    "test_image = tf.placeholder(\"float\",[28,28])\n",
    "test = tf.reshape(test_image,[-1])"
   ]
  },
  {
   "cell_type": "code",
   "execution_count": null,
   "id": "6ebe40ca",
   "metadata": {
    "scrolled": false
   },
   "outputs": [
    {
     "name": "stdout",
     "output_type": "stream",
     "text": [
      "epochs completed 98.0 %\n"
     ]
    },
    {
     "data": {
      "image/png": "[encoded data removed]",
      "text/plain": [
       "<Figure size 432x288 with 1 Axes>"
      ]
     },
     "metadata": {
      "needs_background": "light"
     },
     "output_type": "display_data"
    },
    {
     "data": {
      "image/png": "[encoded data removed]",
      "text/plain": [
       "<Figure size 432x288 with 1 Axes>"
      ]
     },
     "metadata": {
      "needs_background": "light"
     },
     "output_type": "display_data"
    }
   ],
   "source": [
    "init = tf.global_variables_initializer()\n",
    "error_list=[]\n",
    "with tf.Session() as sess:\n",
    "    sess.run(init)\n",
    "    for epoch in range(training_epoch):        \n",
    "        total_batch = int(mnist2.train.num_examples / batch_size)             \n",
    "        for i in range(total_batch):                     \n",
    "            batch_xs, batch_ys = mnist2.train.next_batch(batch_size)                  \n",
    "            sess.run(optimizer,feed_dict={\n",
    "                x:batch_xs,\n",
    "                y:batch_xs\n",
    "            })\n",
    "        error_list.append(sess.run(loss,feed_dict={\n",
    "            x: mnist2.test.images,\n",
    "            y: mnist2.test.images\n",
    "        }))\n",
    "        clear_output(wait=True)\n",
    "        print(\"epochs completed\",((epoch+1)/training_epoch)*100,\"%\")        \n",
    "        plt.imshow(mnist2.test.images[500].reshape(28,28))\n",
    "        plt.show()\n",
    "        a = sess.run(output_output,feed_dict={\n",
    "                x:[mnist2.test.images[500]]\n",
    "            })    \n",
    "        a = a.reshape(28,28)\n",
    "        plt.imshow(a,cmap=\"gray\")\n",
    "        plt.show()\n",
    "    \n",
    "    y_axis = []\n",
    "    x_axis = []\n",
    "    label  = []\n",
    "    \n",
    "    for i in random_indexs:\n",
    "        \n",
    "        features = sess.run(output_hidden_3,feed_dict={\n",
    "            x:[x_test[i]]\n",
    "        })\n",
    "        \n",
    "        points.append([features[0][0] , features[0][1] , y_test[i]])\n",
    "        \n",
    "        y_axis.append(features[0][0])\n",
    "        x_axis.append(features[0][1])\n",
    "        label.append(y_test[i]*0.1)\n",
    "    \n",
    "    \n",
    "           \n",
    "    "
   ]
  },
  {
   "cell_type": "code",
   "execution_count": null,
   "id": "14b7b063",
   "metadata": {},
   "outputs": [],
   "source": [
    "import pandas as pd\n",
    "data = {\"Dim_1\": x_axis,\n",
    "       \"Dim_2\": y_axis,\n",
    "       \"label\": np.array(label)*10}\n",
    "df = pd.DataFrame(data)\n",
    "print(df.head())\n",
    "import seaborn as sns\n",
    "sns.FacetGrid(df, hue=\"label\", height=6).map(plt.scatter, 'Dim_1', 'Dim_2').add_legend()\n",
    "plt.show()"
   ]
  },
  {
   "cell_type": "code",
   "execution_count": null,
   "id": "1c59e0c1",
   "metadata": {},
   "outputs": [],
   "source": [
    "epoch_list = []\n",
    "for i in range(training_epoch):\n",
    "    epoch_list.append(i+1)\n",
    "plt.plot(epoch_list,error_list)\n",
    "plt.xlabel(\"epoch->\")\n",
    "plt.ylabel(\"MSE\")\n",
    "print(error_list[len(error_list)-1])"
   ]
  },
  {
   "cell_type": "code",
   "execution_count": null,
   "id": "6a0d9d08",
   "metadata": {},
   "outputs": [],
   "source": []
  }
 ],
 "metadata": {
  "kernelspec": {
   "display_name": "Python 3",
   "language": "python",
   "name": "python3"
  },
  "language_info": {
   "codemirror_mode": {
    "name": "ipython",
    "version": 3
   },
   "file_extension": ".py",
   "mimetype": "text/x-python",
   "name": "python",
   "nbconvert_exporter": "python",
   "pygments_lexer": "ipython3",
   "version": "3.7.10"
  }
 },
 "nbformat": 4,
 "nbformat_minor": 5
}
