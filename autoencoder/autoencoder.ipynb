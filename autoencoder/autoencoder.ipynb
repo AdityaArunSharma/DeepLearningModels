{
 "cells": [
  {
   "cell_type": "code",
   "execution_count": 2,
   "id": "c7e2892e",
   "metadata": {},
   "outputs": [
    {
     "name": "stdout",
     "output_type": "stream",
     "text": [
      "Extracting /tmp/data/train-images-idx3-ubyte.gz\n",
      "Extracting /tmp/data/train-labels-idx1-ubyte.gz\n",
      "Extracting /tmp/data/t10k-images-idx3-ubyte.gz\n",
      "Extracting /tmp/data/t10k-labels-idx1-ubyte.gz\n"
     ]
    }
   ],
   "source": [
    "import tensorflow as tf\n",
    "from IPython.display import clear_output\n",
    "from tensorflow.examples.tutorials.mnist import input_data\n",
    "mnist2 = input_data.read_data_sets(\"/tmp/data/\", one_hot = True)"
   ]
  },
  {
   "cell_type": "code",
   "execution_count": 3,
   "id": "1db524e3",
   "metadata": {},
   "outputs": [
    {
     "name": "stderr",
     "output_type": "stream",
     "text": [
      "Using TensorFlow backend.\n"
     ]
    }
   ],
   "source": [
    "from tensorflow.keras.datasets import mnist\n",
    "\n",
    "#Importing data\n",
    "(x_train, y_train), (x_test, y_test) = mnist.load_data()\n",
    "image_vector_size = 28*28\n",
    "\n",
    "#Normalization\n",
    "x_train = x_train.astype(float)\n",
    "x_test = x_test.astype(float)\n",
    "\n",
    "#Flattening Feature\n",
    "# x_train = x_train.reshape(x_train.shape[0], image_vector_size)\n",
    "# x_test = x_test.reshape(x_test.shape[0], image_vector_size)\n",
    "\n",
    "#Converting Target variable from scaler to softmax class\n",
    "import keras\n",
    "num_classes = 10\n",
    "y_train = keras.utils.to_categorical(y_train, num_classes)\n",
    "y_test = keras.utils.to_categorical(y_test, num_classes)\n"
   ]
  },
  {
   "cell_type": "code",
   "execution_count": 4,
   "id": "ed9c3b33",
   "metadata": {},
   "outputs": [],
   "source": [
    "#Parameters\n",
    "learning_rate = 0.001\n",
    "training_epoch = 100\n",
    "N = 784\n",
    "n_hidden_1 = 392\n",
    "n_hidden_2 = 196\n",
    "n_hidden_3 = 392\n",
    "batch_size = 50\n",
    "n_input = N\n",
    "x = tf.placeholder(\"float\",[None,n_input])\n",
    "y = tf.placeholder(\"float\",[None,n_input])\n",
    "test_examples = 20"
   ]
  },
  {
   "cell_type": "code",
   "execution_count": 5,
   "id": "00771096",
   "metadata": {},
   "outputs": [
    {
     "name": "stdout",
     "output_type": "stream",
     "text": [
      "[4980 1288 7813 9766 5981 9301 7559 7050 2292 1690 2126 5063 7995 9654\n",
      " 3743 6786 3559 2344 8531  289]\n"
     ]
    }
   ],
   "source": [
    "import numpy as np\n",
    "random_indexs = np.random.randint(low=0,high=len(x_test)-1,size = test_examples)\n",
    "print(random_indexs)"
   ]
  },
  {
   "cell_type": "code",
   "execution_count": 6,
   "id": "be376e2b",
   "metadata": {},
   "outputs": [],
   "source": [
    "#1st Hidden layer\n",
    "weight_hidden_1 = tf.Variable(tf.truncated_normal([n_input,n_hidden_1],stddev=0.1))\n",
    "bias_hidden_1   = tf.Variable(tf.constant(0.1,shape = [n_hidden_1]))\n",
    "output_hidden_1 = tf.nn.relu(tf.add(tf.matmul(x,weight_hidden_1),bias_hidden_1))"
   ]
  },
  {
   "cell_type": "code",
   "execution_count": 7,
   "id": "61ee3daa",
   "metadata": {},
   "outputs": [],
   "source": [
    "#2nd Hidden Layer\n",
    "weight_hidden_2 = tf.Variable(tf.truncated_normal([n_hidden_1,n_hidden_2],stddev=0.1))\n",
    "bias_hidden_2   = tf.Variable(tf.constant(0.1,shape=[n_hidden_2]))\n",
    "output_hidden_2 = tf.nn.sigmoid(tf.add(tf.matmul(output_hidden_1,weight_hidden_2),bias_hidden_2))"
   ]
  },
  {
   "cell_type": "code",
   "execution_count": 8,
   "id": "e494c62a",
   "metadata": {},
   "outputs": [],
   "source": [
    "#3rd Hidden Layer\n",
    "weight_hidden_3 = tf.Variable(tf.truncated_normal([n_hidden_2,n_hidden_3],stddev=0.1))\n",
    "bias_hidden_3   = tf.Variable(tf.constant(0.1,shape=[n_hidden_3]))\n",
    "output_hidden_3 = tf.nn.relu(tf.add(tf.matmul(output_hidden_2,weight_hidden_3),bias_hidden_3))\n"
   ]
  },
  {
   "cell_type": "code",
   "execution_count": 9,
   "id": "a024467f",
   "metadata": {},
   "outputs": [],
   "source": [
    "#Output Layer\n",
    "weight_output = tf.Variable(tf.truncated_normal([n_hidden_3,n_input],stddev=0.1))\n",
    "bias_output   = tf.Variable(tf.constant(0.1,shape=[n_input]))\n",
    "output_output = tf.nn.sigmoid(tf.add(tf.matmul(output_hidden_3,weight_output),bias_output))"
   ]
  },
  {
   "cell_type": "code",
   "execution_count": 10,
   "id": "22932dc6",
   "metadata": {},
   "outputs": [],
   "source": [
    "loss = tf.reduce_mean(tf.squared_difference(y,output_output))\n",
    "optimizer = tf.train.AdamOptimizer(learning_rate = learning_rate).minimize(loss)"
   ]
  },
  {
   "cell_type": "code",
   "execution_count": 11,
   "id": "9a0d5c2a",
   "metadata": {},
   "outputs": [
    {
     "name": "stdout",
     "output_type": "stream",
     "text": [
      "[[0.         0.         0.         0.         0.         0.\n",
      "  0.         0.         0.         0.         0.         0.\n",
      "  0.         0.         0.         0.         0.         0.\n",
      "  0.         0.         0.         0.         0.         0.\n",
      "  0.         0.         0.         0.        ]\n",
      " [0.         0.         0.         0.         0.         0.\n",
      "  0.         0.         0.         0.         0.         0.\n",
      "  0.         0.         0.         0.         0.         0.\n",
      "  0.         0.         0.         0.         0.         0.\n",
      "  0.         0.         0.         0.        ]\n",
      " [0.         0.         0.         0.         0.         0.\n",
      "  0.         0.         0.         0.         0.         0.\n",
      "  0.         0.         0.         0.         0.         0.\n",
      "  0.         0.         0.         0.         0.         0.\n",
      "  0.         0.         0.         0.        ]\n",
      " [0.         0.         0.         0.         0.         0.\n",
      "  0.         0.         0.         0.         0.         0.\n",
      "  0.         0.         0.         0.         0.         0.\n",
      "  0.         0.         0.         0.         0.         0.\n",
      "  0.         0.         0.         0.        ]\n",
      " [0.         0.         0.         0.         0.         0.\n",
      "  0.         0.         0.         0.         0.         0.\n",
      "  0.         0.         0.         0.         0.         0.\n",
      "  0.         0.         0.         0.         0.         0.\n",
      "  0.         0.         0.         0.        ]\n",
      " [0.         0.         0.         0.         0.         0.\n",
      "  0.         0.17254902 0.18431373 0.10980393 0.454902   0.6\n",
      "  0.9960785  1.         0.76470596 0.45098042 0.16470589 0.\n",
      "  0.         0.         0.         0.         0.         0.\n",
      "  0.         0.         0.         0.        ]\n",
      " [0.         0.         0.         0.         0.         0.2627451\n",
      "  0.47450984 0.9450981  0.9921569  0.7372549  0.9921569  0.9921569\n",
      "  0.9921569  0.9921569  0.9921569  0.9921569  0.9176471  0.25490198\n",
      "  0.         0.         0.         0.         0.         0.\n",
      "  0.         0.         0.         0.        ]\n",
      " [0.         0.         0.         0.         0.35686275 0.97647065\n",
      "  0.9921569  0.9921569  0.9921569  0.9921569  0.9607844  0.9725491\n",
      "  0.96470594 0.7411765  0.87843144 0.9921569  0.9921569  0.93725497\n",
      "  0.08235294 0.         0.         0.         0.         0.\n",
      "  0.         0.         0.         0.        ]\n",
      " [0.         0.         0.         0.         0.36862746 0.9921569\n",
      "  0.9921569  0.9921569  0.9921569  0.81568635 0.20000002 0.23137257\n",
      "  0.36862746 0.10196079 0.16862746 0.9921569  0.9921569  0.61960787\n",
      "  0.03529412 0.         0.         0.         0.         0.\n",
      "  0.         0.         0.         0.        ]\n",
      " [0.         0.         0.         0.         0.03137255 0.86274517\n",
      "  0.9686275  0.31764707 0.3647059  0.09019608 0.         0.\n",
      "  0.         0.         0.37254903 0.9921569  0.9921569  0.9921569\n",
      "  0.09803922 0.         0.         0.         0.         0.\n",
      "  0.         0.         0.         0.        ]\n",
      " [0.         0.         0.         0.         0.         0.\n",
      "  0.22352943 0.02352941 0.         0.         0.         0.\n",
      "  0.05882353 0.28627452 0.8588236  0.9921569  0.9921569  0.9921569\n",
      "  0.09803922 0.         0.         0.         0.         0.\n",
      "  0.         0.         0.         0.        ]\n",
      " [0.         0.         0.         0.         0.         0.\n",
      "  0.         0.         0.         0.         0.         0.04313726\n",
      "  0.8980393  0.9921569  0.9921569  0.9921569  0.98823535 0.8078432\n",
      "  0.05490196 0.         0.         0.         0.         0.\n",
      "  0.         0.         0.         0.        ]\n",
      " [0.         0.         0.         0.         0.         0.\n",
      "  0.         0.         0.         0.         0.         0.43137258\n",
      "  0.9921569  0.9921569  0.9921569  0.9921569  0.8705883  0.\n",
      "  0.         0.         0.         0.         0.         0.\n",
      "  0.         0.         0.         0.        ]\n",
      " [0.         0.         0.         0.         0.         0.\n",
      "  0.         0.         0.         0.         0.         0.43137258\n",
      "  0.9921569  0.9921569  0.9921569  0.9921569  0.9725491  0.3803922\n",
      "  0.43137258 0.43137258 0.2392157  0.         0.         0.\n",
      "  0.         0.         0.         0.        ]\n",
      " [0.         0.         0.         0.         0.         0.\n",
      "  0.         0.         0.         0.         0.         0.1764706\n",
      "  0.91372555 0.9921569  0.9921569  0.9921569  0.9921569  0.9921569\n",
      "  0.9921569  0.9921569  0.7960785  0.         0.         0.\n",
      "  0.         0.         0.         0.        ]\n",
      " [0.         0.         0.         0.         0.         0.\n",
      "  0.         0.         0.         0.         0.         0.\n",
      "  0.1254902  0.20000002 0.6627451  0.9921569  0.9921569  0.9921569\n",
      "  0.9921569  0.9921569  0.9843138  0.29411766 0.         0.\n",
      "  0.         0.         0.         0.        ]\n",
      " [0.         0.         0.         0.         0.         0.\n",
      "  0.         0.         0.         0.         0.         0.\n",
      "  0.         0.         0.00392157 0.01960784 0.6156863  0.9490197\n",
      "  0.9921569  0.9921569  0.9921569  0.3647059  0.         0.\n",
      "  0.         0.         0.         0.        ]\n",
      " [0.         0.         0.         0.         0.         0.\n",
      "  0.         0.         0.         0.         0.         0.\n",
      "  0.         0.         0.         0.         0.         0.54509807\n",
      "  0.9921569  0.9921569  0.9921569  0.3647059  0.         0.\n",
      "  0.         0.         0.         0.        ]\n",
      " [0.         0.         0.         0.         0.         0.\n",
      "  0.         0.         0.         0.         0.         0.\n",
      "  0.         0.         0.         0.         0.01568628 0.5803922\n",
      "  0.9921569  0.9921569  0.9215687  0.17254902 0.         0.\n",
      "  0.         0.         0.         0.        ]\n",
      " [0.         0.         0.         0.         0.         0.\n",
      "  0.         0.         0.         0.         0.         0.\n",
      "  0.         0.         0.         0.         0.5372549  0.9921569\n",
      "  0.9921569  0.9921569  0.25490198 0.         0.         0.\n",
      "  0.         0.         0.         0.        ]\n",
      " [0.         0.         0.         0.         0.         0.\n",
      "  0.         0.         0.         0.         0.         0.03529412\n",
      "  0.08235294 0.08235294 0.31764707 0.7960785  0.98823535 0.9921569\n",
      "  0.9921569  0.86274517 0.07058824 0.         0.         0.\n",
      "  0.         0.         0.         0.        ]\n",
      " [0.         0.         0.         0.         0.         0.\n",
      "  0.         0.13725491 0.54901963 0.67058825 0.5058824  0.8117648\n",
      "  0.9921569  0.9921569  0.9921569  0.9921569  0.9921569  0.9921569\n",
      "  0.9921569  0.61960787 0.         0.         0.         0.\n",
      "  0.         0.         0.         0.        ]\n",
      " [0.         0.         0.         0.         0.         0.\n",
      "  0.14901961 0.7254902  0.9921569  0.9921569  0.9921569  0.9921569\n",
      "  0.9921569  0.9921569  0.9921569  0.9803922  0.98823535 0.95294124\n",
      "  0.75294125 0.18039216 0.         0.         0.         0.\n",
      "  0.         0.         0.         0.        ]\n",
      " [0.         0.         0.         0.         0.         0.\n",
      "  0.25490198 0.97647065 0.9921569  0.9921569  0.9921569  0.98823535\n",
      "  0.7686275  0.9490197  0.6039216  0.3372549  0.4666667  0.\n",
      "  0.         0.         0.         0.         0.         0.\n",
      "  0.         0.         0.         0.        ]\n",
      " [0.         0.         0.         0.         0.         0.\n",
      "  0.         0.16862746 0.34901962 0.37254903 0.42352945 0.909804\n",
      "  0.         0.14509805 0.00392157 0.         0.         0.\n",
      "  0.         0.         0.         0.         0.         0.\n",
      "  0.         0.         0.         0.        ]\n",
      " [0.         0.         0.         0.         0.         0.\n",
      "  0.         0.         0.         0.         0.         0.\n",
      "  0.         0.         0.         0.         0.         0.\n",
      "  0.         0.         0.         0.         0.         0.\n",
      "  0.         0.         0.         0.        ]\n",
      " [0.         0.         0.         0.         0.         0.\n",
      "  0.         0.         0.         0.         0.         0.\n",
      "  0.         0.         0.         0.         0.         0.\n",
      "  0.         0.         0.         0.         0.         0.\n",
      "  0.         0.         0.         0.        ]\n",
      " [0.         0.         0.         0.         0.         0.\n",
      "  0.         0.         0.         0.         0.         0.\n",
      "  0.         0.         0.         0.         0.         0.\n",
      "  0.         0.         0.         0.         0.         0.\n",
      "  0.         0.         0.         0.        ]]\n"
     ]
    },
    {
     "data": {
      "image/png": "[encoded data removed]",
      "text/plain": [
       "<Figure size 432x288 with 1 Axes>"
      ]
     },
     "metadata": {
      "needs_background": "light"
     },
     "output_type": "display_data"
    }
   ],
   "source": [
    "import matplotlib.pyplot as plt\n",
    "%matplotlib inline\n",
    "testimage = mnist2.test.images[500].reshape(28,28)\n",
    "plt.imshow(testimage,cmap=\"gray\")\n",
    "print(testimage)"
   ]
  },
  {
   "cell_type": "code",
   "execution_count": 12,
   "id": "e6967080",
   "metadata": {},
   "outputs": [],
   "source": [
    "test_image = tf.placeholder(\"float\",[28,28])\n",
    "test = tf.reshape(test_image,[-1])"
   ]
  },
  {
   "cell_type": "code",
   "execution_count": null,
   "id": "d2adfe83",
   "metadata": {
    "scrolled": false
   },
   "outputs": [
    {
     "name": "stdout",
     "output_type": "stream",
     "text": [
      "epochs completed 94.0 %\n"
     ]
    },
    {
     "data": {
      "image/png": "[encoded data removed]",
      "text/plain": [
       "<Figure size 432x288 with 1 Axes>"
      ]
     },
     "metadata": {
      "needs_background": "light"
     },
     "output_type": "display_data"
    },
    {
     "data": {
      "image/png": "[encoded data removed]",
      "text/plain": [
       "<Figure size 432x288 with 1 Axes>"
      ]
     },
     "metadata": {
      "needs_background": "light"
     },
     "output_type": "display_data"
    }
   ],
   "source": [
    "init = tf.global_variables_initializer()\n",
    "error_list=[]\n",
    "with tf.Session() as sess:\n",
    "    sess.run(init)\n",
    "    for epoch in range(training_epoch):        \n",
    "        total_batch = int(mnist2.train.num_examples / batch_size)             \n",
    "        for i in range(total_batch):                     \n",
    "            batch_xs, batch_ys = mnist2.train.next_batch(batch_size)                  \n",
    "            sess.run(optimizer,feed_dict={\n",
    "                x:batch_xs,\n",
    "                y:batch_xs\n",
    "            })\n",
    "        error_list.append(sess.run(loss,feed_dict={\n",
    "            x: mnist2.test.images,\n",
    "            y: mnist2.test.images\n",
    "        }))\n",
    "        clear_output(wait=True)\n",
    "        print(\"epochs completed\",((epoch+1)/training_epoch)*100,\"%\")        \n",
    "        plt.imshow(mnist2.test.images[500].reshape(28,28))\n",
    "        plt.show()\n",
    "        a = sess.run(output_output,feed_dict={\n",
    "                x:[mnist2.test.images[500]]\n",
    "            })    \n",
    "        a = a.reshape(28,28)\n",
    "        plt.imshow(a,cmap=\"gray\")\n",
    "        plt.show()\n",
    "    \n",
    "    for i in random_indexs:\n",
    "        \n",
    "        plt.title(\"Input Image\")\n",
    "        plt.imshow(x_test[i],cmap='gray')        \n",
    "        t = sess.run(test,feed_dict={\n",
    "            test_image:(mnist2.test.images[i]).reshape(28,28)\n",
    "        })\n",
    "        plt.show()\n",
    "        t1 = sess.run(output_output,feed_dict={\n",
    "        x:[t]\n",
    "            })   \n",
    "        t2 = t1.reshape(28,28)*255    \n",
    "        plt.title(\"Output Image\")\n",
    "        plt.imshow(t2,cmap=\"gray\")\n",
    "        plt.show()        \n",
    "    "
   ]
  },
  {
   "cell_type": "code",
   "execution_count": null,
   "id": "b6215c98",
   "metadata": {},
   "outputs": [],
   "source": [
    "epoch_list = []\n",
    "for i in range(training_epoch):\n",
    "    epoch_list.append(i+1)\n",
    "plt.plot(epoch_list,error_list)\n",
    "plt.xlabel(\"epoch->\")\n",
    "plt.ylabel(\"MSE\")\n",
    "print(error_list[len(error_list)-1])"
   ]
  },
  {
   "cell_type": "code",
   "execution_count": null,
   "id": "090880a1",
   "metadata": {},
   "outputs": [],
   "source": []
  }
 ],
 "metadata": {
  "kernelspec": {
   "display_name": "Python 3",
   "language": "python",
   "name": "python3"
  },
  "language_info": {
   "codemirror_mode": {
    "name": "ipython",
    "version": 3
   },
   "file_extension": ".py",
   "mimetype": "text/x-python",
   "name": "python",
   "nbconvert_exporter": "python",
   "pygments_lexer": "ipython3",
   "version": "3.7.10"
  }
 },
 "nbformat": 4,
 "nbformat_minor": 5
}
