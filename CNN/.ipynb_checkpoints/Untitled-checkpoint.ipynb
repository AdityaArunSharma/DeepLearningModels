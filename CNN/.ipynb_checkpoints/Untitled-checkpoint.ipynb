{
 "cells": [
  {
   "cell_type": "code",
   "execution_count": 164,
   "id": "78f05f97",
   "metadata": {},
   "outputs": [
    {
     "name": "stdout",
     "output_type": "stream",
     "text": [
      "Extracting data/fashion\\train-images-idx3-ubyte.gz\n",
      "Extracting data/fashion\\train-labels-idx1-ubyte.gz\n",
      "Extracting data/fashion\\t10k-images-idx3-ubyte.gz\n",
      "Extracting data/fashion\\t10k-labels-idx1-ubyte.gz\n"
     ]
    }
   ],
   "source": [
    "import numpy as np\n",
    "import matplotlib.pyplot as plt\n",
    "import tensorflow as tf\n",
    "from tensorflow.examples.tutorials.mnist import input_data\n",
    "%matplotlib inline\n",
    "from IPython.display import clear_output\n",
    "data = input_data.read_data_sets('data/fashion',one_hot=True,\\\n",
    "                                 source_url='http://fashion-mnist.s3-website.eu-central-1.amazonaws.com/')"
   ]
  },
  {
   "cell_type": "raw",
   "id": "b8403022",
   "metadata": {},
   "source": [
    "input dimensions  = number of samples X Height X Width X Channels\n",
    "kernel dimensions = Height X Width X Input Channels X No. of Filters\n",
    "filter dimensions = 3 X 3\n",
    "MaxPool dimensions = 2 X 2\n",
    "strides = 1\n",
    "\n",
    "For the SAME padding, the output height and width are computed as:\n",
    "out_height = ceil(float(in_height) / float(strides[1]))\n",
    "out_width  = ceil(float(in_width) / float(strides[2]))"
   ]
  },
  {
   "cell_type": "code",
   "execution_count": 165,
   "id": "2e0b8505",
   "metadata": {},
   "outputs": [],
   "source": [
    "label_dict = {\n",
    " 0: 'T-shirt/top',\n",
    " 1: 'Trouser',\n",
    " 2: 'Pullover',\n",
    " 3: 'Dress',\n",
    " 4: 'Coat',\n",
    " 5: 'Sandal',\n",
    " 6: 'Shirt',\n",
    " 7: 'Sneaker',\n",
    " 8: 'Bag',\n",
    " 9: 'Ankle boot',\n",
    "}"
   ]
  },
  {
   "cell_type": "code",
   "execution_count": 166,
   "id": "157f390d",
   "metadata": {},
   "outputs": [
    {
     "data": {
      "text/plain": [
       "Text(0.5, 1.0, 'Pullover')"
      ]
     },
     "execution_count": 166,
     "metadata": {},
     "output_type": "execute_result"
    },
    {
     "data": {
      "image/png": "[encoded data removed]",
      "text/plain": [
       "<Figure size 432x288 with 1 Axes>"
      ]
     },
     "metadata": {
      "needs_background": "light"
     },
     "output_type": "display_data"
    }
   ],
   "source": [
    "#Data visualization\n",
    "import random\n",
    "test_index = random.randint(0,data.test.labels.shape[0])\n",
    "plt.imshow(data.test.images[test_index].reshape(28,28))\n",
    "plt.title(label_dict[np.argmax(data.test.labels[test_index])])"
   ]
  },
  {
   "cell_type": "code",
   "execution_count": 167,
   "id": "a23cd13d",
   "metadata": {},
   "outputs": [
    {
     "name": "stdout",
     "output_type": "stream",
     "text": [
      "(55000, 28, 28, 1)\n"
     ]
    }
   ],
   "source": [
    "#Reshape input data\n",
    "train_x = data.train.images.reshape(-1,28,28,1)\n",
    "test_x  = data.train.images.reshape(-1,28,28,1)\n",
    "print(train_x.shape)"
   ]
  },
  {
   "cell_type": "markdown",
   "id": "5d8573d9",
   "metadata": {},
   "source": [
    "![title](img/arch.png)"
   ]
  },
  {
   "cell_type": "code",
   "execution_count": 168,
   "id": "df1c6146",
   "metadata": {},
   "outputs": [],
   "source": [
    "#Parameters\n",
    "training_epoch = 150\n",
    "learning_rate  = 0.00001\n",
    "batch_size     = 128\n",
    "n_input        = 28\n",
    "n_classes      = 10"
   ]
  },
  {
   "cell_type": "code",
   "execution_count": 169,
   "id": "aad080c1",
   "metadata": {},
   "outputs": [],
   "source": [
    "x = tf.placeholder(\"float\",[None,28,28,1])\n",
    "y = tf.placeholder(\"float\",[None,n_classes])"
   ]
  },
  {
   "cell_type": "code",
   "execution_count": 170,
   "id": "3cca3aae",
   "metadata": {},
   "outputs": [],
   "source": [
    "def conv2d(x,W,b,strides=1):\n",
    "    x = tf.nn.conv2d(x,W,strides=[1,strides,strides,1],padding=\"SAME\")\n",
    "    x = tf.nn.bias_add(x,b)\n",
    "    return tf.nn.relu(x)"
   ]
  },
  {
   "cell_type": "code",
   "execution_count": 171,
   "id": "bf23e867",
   "metadata": {},
   "outputs": [],
   "source": [
    "def maxpool2d(x,k=2):\n",
    "    return tf.nn.max_pool(x,ksize=[1,k,k,1], strides=[1,k,k,1],padding=\"SAME\")"
   ]
  },
  {
   "cell_type": "code",
   "execution_count": 172,
   "id": "03612d5a",
   "metadata": {},
   "outputs": [],
   "source": [
    "weights = {\n",
    "    'wc1': tf.Variable(tf.truncated_normal([3,3,1,32],stddev=0.1),name='W0'),\n",
    "    'wc2': tf.Variable(tf.truncated_normal([3,3,32,64],stddev=0.1),name='W1'),\n",
    "    'wc3': tf.Variable(tf.truncated_normal([3,3,64,128],stddev=0.1),name='W2'),\n",
    "    'wd1': tf.Variable(tf.truncated_normal([4*4*128,128],stddev=0.1),name='W3'),\n",
    "    'out': tf.Variable(tf.truncated_normal([128,n_classes],stddev=0.1),name='W4')\n",
    "}\n",
    "biases = {\n",
    "    'bc1': tf.Variable(tf.truncated_normal([32],stddev=0.1),name='b0'),\n",
    "    'bc2': tf.Variable(tf.truncated_normal([64],stddev=0.1),name='b1'),\n",
    "    'bc3': tf.Variable(tf.truncated_normal([128],stddev=0.1),name='b2'),\n",
    "    'bd1': tf.Variable(tf.truncated_normal([128],stddev=0.1),name='b3'),\n",
    "    'out': tf.Variable(tf.truncated_normal([n_classes],stddev=0.1),name='b4')\n",
    "}"
   ]
  },
  {
   "cell_type": "code",
   "execution_count": 173,
   "id": "2499abf1",
   "metadata": {},
   "outputs": [],
   "source": [
    "#1st CNN Layer\n",
    "conv1 = conv2d(x,weights['wc1'],biases['bc1'])\n",
    "conv1 = maxpool2d(conv1,k=2)    "
   ]
  },
  {
   "cell_type": "code",
   "execution_count": 174,
   "id": "09cafcc7",
   "metadata": {},
   "outputs": [],
   "source": [
    "#2nd CNN Layer\n",
    "conv2 = conv2d(conv1,weights['wc2'],biases['bc2'])\n",
    "conv2 = maxpool2d(conv2,k=2)"
   ]
  },
  {
   "cell_type": "code",
   "execution_count": 175,
   "id": "8fa53ed4",
   "metadata": {},
   "outputs": [],
   "source": [
    "#3rd CNN Layer\n",
    "conv3 = conv2d(conv2,weights['wc3'],biases['bc3'])\n",
    "conv3 = maxpool2d(conv3,k=2)  "
   ]
  },
  {
   "cell_type": "code",
   "execution_count": 176,
   "id": "64805f89",
   "metadata": {},
   "outputs": [],
   "source": [
    "#Dense Layer  \n",
    "fc1 = tf.reshape(conv3,[-1,weights['wd1'].get_shape().as_list()[0]])\n",
    "fc1 = tf.add(tf.matmul(fc1,weights['wd1']),biases['bd1'])\n",
    "fc1 = tf.nn.relu(fc1)"
   ]
  },
  {
   "cell_type": "code",
   "execution_count": 177,
   "id": "ae33efda",
   "metadata": {},
   "outputs": [],
   "source": [
    "#Output Layer\n",
    "out = tf.add(tf.matmul(fc1,weights['out']),biases['out'])"
   ]
  },
  {
   "cell_type": "code",
   "execution_count": 178,
   "id": "c82f95ae",
   "metadata": {},
   "outputs": [],
   "source": [
    "loss = tf.reduce_mean(tf.nn.softmax_cross_entropy_with_logits(logits=out,labels=y))\n",
    "optimizer =  tf.train.AdamOptimizer(learning_rate=learning_rate).minimize(loss)"
   ]
  },
  {
   "cell_type": "code",
   "execution_count": 179,
   "id": "a130abdc",
   "metadata": {},
   "outputs": [],
   "source": [
    "correct_prediction = tf.equal(tf.argmax(out, 1), tf.argmax(y, 1))\n",
    "accuracy = tf.reduce_mean(tf.cast(correct_prediction, tf.float32))"
   ]
  },
  {
   "cell_type": "code",
   "execution_count": 180,
   "id": "bae28a32",
   "metadata": {},
   "outputs": [
    {
     "name": "stdout",
     "output_type": "stream",
     "text": [
      "epoch 149 accuracy 89.62000012397766 %\n"
     ]
    },
    {
     "data": {
      "image/png": "[encoded data removed]",
      "text/plain": [
       "<Figure size 432x288 with 1 Axes>"
      ]
     },
     "metadata": {
      "needs_background": "light"
     },
     "output_type": "display_data"
    }
   ],
   "source": [
    "init = tf.global_variables_initializer()\n",
    "test_accuracy = []\n",
    "error_list = []\n",
    "epoch_list = []\n",
    "with tf.Session() as sess:\n",
    "    sess.run(init)\n",
    "    \n",
    "    for epoch in range(training_epoch):\n",
    "        \n",
    "        total_batch = int(data.train.num_examples / batch_size)             \n",
    "        for i in range(total_batch):                     \n",
    "            batch_xs, batch_ys = data.train.next_batch(batch_size)\n",
    "            batch_xs_reshape = batch_xs.reshape(-1,28,28,1)            \n",
    "            sess.run(optimizer,feed_dict={\n",
    "                x: batch_xs_reshape,\n",
    "                y:batch_ys\n",
    "            })\n",
    "        error_list.append(sess.run(loss,feed_dict={\n",
    "            x: data.test.images.reshape(-1,28,28,1),\n",
    "            y: data.test.labels\n",
    "        }))\n",
    "        \n",
    "        test_accuracy.append(sess.run(accuracy,feed_dict={\n",
    "            x: data.test.images.reshape(-1,28,28,1),\n",
    "            y: data.test.labels\n",
    "            \n",
    "        }))\n",
    "        epoch_list.append(epoch+1)\n",
    "        clear_output(wait=True)\n",
    "        print(\"epoch\",epoch,\"accuracy\",test_accuracy[epoch]*100,\"%\")\n",
    "        plt.plot(epoch_list,error_list)\n",
    "        plt.show()\n",
    "        \n",
    "        "
   ]
  },
  {
   "cell_type": "code",
   "execution_count": null,
   "id": "9db078d0",
   "metadata": {},
   "outputs": [],
   "source": []
  }
 ],
 "metadata": {
  "kernelspec": {
   "display_name": "Python 3",
   "language": "python",
   "name": "python3"
  },
  "language_info": {
   "codemirror_mode": {
    "name": "ipython",
    "version": 3
   },
   "file_extension": ".py",
   "mimetype": "text/x-python",
   "name": "python",
   "nbconvert_exporter": "python",
   "pygments_lexer": "ipython3",
   "version": "3.7.10"
  }
 },
 "nbformat": 4,
 "nbformat_minor": 5
}
