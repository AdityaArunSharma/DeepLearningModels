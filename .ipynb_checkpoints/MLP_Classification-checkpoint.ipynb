{
 "cells": [
  {
   "cell_type": "code",
   "execution_count": 136,
   "id": "520eba91",
   "metadata": {},
   "outputs": [],
   "source": [
    "import tensorflow as tf\n",
    "from tensorflow.keras.datasets import mnist\n",
    "\n",
    "#Importing data\n",
    "(x_train, y_train), (x_test, y_test) = mnist.load_data()\n",
    "image_vector_size = 28*28\n",
    "\n",
    "#Normalization\n",
    "x_train = x_train.astype(float) / 255.\n",
    "x_test = x_test.astype(float) / 255.\n",
    "\n",
    "#Flattening Feature\n",
    "x_train = x_train.reshape(x_train.shape[0], image_vector_size)\n",
    "x_test = x_test.reshape(x_test.shape[0], image_vector_size)\n",
    "\n",
    "#Converting Target variable from scaler to softmax class\n",
    "import keras\n",
    "num_classes = 10\n",
    "y_train = keras.utils.to_categorical(y_train, num_classes)\n",
    "y_test = keras.utils.to_categorical(y_test, num_classes)"
   ]
  },
  {
   "cell_type": "code",
   "execution_count": 137,
   "id": "1f9d0a37",
   "metadata": {},
   "outputs": [],
   "source": [
    "#Parameters\n",
    "learning_rate = 0.001\n",
    "training_epochs = 20\n",
    "N = 784\n",
    "n_hidden_1 = 392 # N/2\n",
    "n_hidden_2 = 196 # N/4\n",
    "n_input = N\n",
    "n_classes = 10\n",
    "x = tf.placeholder(\"float\",[None,n_input])\n",
    "y = tf.placeholder(\"float\",[None,n_classes])"
   ]
  },
  {
   "cell_type": "code",
   "execution_count": 138,
   "id": "ec6b4e0c",
   "metadata": {},
   "outputs": [],
   "source": [
    "# 1st Hidden Layer\n",
    "weight_hidden_1 = tf.Variable(tf.random_normal([n_input,n_hidden_1]))\n",
    "bias_hidden_1   = tf.Variable(tf.random_normal([n_hidden_1]))\n",
    "output_hidden_1 = tf.nn.relu(tf.add(tf.matmul(x,weight_hidden_1),bias_hidden_1))"
   ]
  },
  {
   "cell_type": "code",
   "execution_count": 139,
   "id": "b2057c3f",
   "metadata": {},
   "outputs": [],
   "source": [
    "#2nd Hidden Layer\n",
    "weight_hidden_2 = tf.Variable(tf.random_normal([n_hidden_1,n_hidden_2]))\n",
    "bias_hidden_2   = tf.Variable(tf.random_normal([n_hidden_2]))\n",
    "output_hidden_2 = tf.nn.sigmoid(tf.add(tf.matmul(output_hidden_1,weight_hidden_2),bias_hidden_2))"
   ]
  },
  {
   "cell_type": "code",
   "execution_count": 140,
   "id": "05f281ec",
   "metadata": {},
   "outputs": [],
   "source": [
    "#Output Layer\n",
    "weight_output = tf.Variable(tf.random_normal([n_hidden_2,n_classes]))\n",
    "bias_output   = tf.Variable(tf.random_normal([n_classes]))\n",
    "final_output  = tf.matmul(output_hidden_2,weight_output) + bias_output"
   ]
  },
  {
   "cell_type": "code",
   "execution_count": 141,
   "id": "898deed1",
   "metadata": {},
   "outputs": [],
   "source": [
    "#Loss Function = (y - y_pred)^2 / size\n",
    "loss = tf.reduce_mean(tf.math.squared_difference(y,tf.nn.softmax(final_output)))"
   ]
  },
  {
   "cell_type": "code",
   "execution_count": 142,
   "id": "4b23bddc",
   "metadata": {},
   "outputs": [],
   "source": [
    "#Loss Function = (y - y_pred)^4/size\n",
    "# loss = tf.reduce_mean((y - tf.nn.softmax(final_output))**4)"
   ]
  },
  {
   "cell_type": "code",
   "execution_count": 143,
   "id": "27b395b0",
   "metadata": {},
   "outputs": [],
   "source": [
    "#Error function\n",
    "error = tf.reduce_mean(tf.math.squared_difference(y,tf.nn.softmax(final_output)))"
   ]
  },
  {
   "cell_type": "code",
   "execution_count": 144,
   "id": "4aab93c3",
   "metadata": {},
   "outputs": [],
   "source": [
    "#Optimizer\n",
    "optimizer = tf.train.GradientDescentOptimizer(learning_rate = learning_rate).minimize(loss)"
   ]
  },
  {
   "cell_type": "code",
   "execution_count": 145,
   "id": "8e06cddf",
   "metadata": {},
   "outputs": [
    {
     "name": "stdout",
     "output_type": "stream",
     "text": [
      "epoch  0  finished loss =  0.1626171\n",
      "epoch  1  finished loss =  0.16261691\n",
      "epoch  2  finished loss =  0.16261671\n",
      "epoch  3  finished loss =  0.16261652\n",
      "epoch  4  finished loss =  0.16261633\n",
      "epoch  5  finished loss =  0.16261615\n",
      "epoch  6  finished loss =  0.16261594\n",
      "epoch  7  finished loss =  0.16261576\n",
      "epoch  8  finished loss =  0.16261555\n",
      "epoch  9  finished loss =  0.16261537\n",
      "epoch  10  finished loss =  0.16261518\n",
      "epoch  11  finished loss =  0.16261499\n",
      "epoch  12  finished loss =  0.1626148\n",
      "epoch  13  finished loss =  0.16261461\n",
      "epoch  14  finished loss =  0.16261442\n",
      "epoch  15  finished loss =  0.16261421\n",
      "epoch  16  finished loss =  0.16261402\n",
      "epoch  17  finished loss =  0.16261384\n",
      "epoch  18  finished loss =  0.16261365\n",
      "epoch  19  finished loss =  0.16261345\n"
     ]
    }
   ],
   "source": [
    "#Graph starting\n",
    "init = tf.global_variables_initializer()\n",
    "mse_loss_list = []\n",
    "epoch_list = []\n",
    "with tf.Session() as sess:\n",
    "    sess.run(init)\n",
    "    \n",
    "    for epoch in range(training_epochs):\n",
    "        \n",
    "        sess.run(optimizer,feed_dict={\n",
    "            x: x_train,\n",
    "            y: y_train\n",
    "        })\n",
    "        \n",
    "        mse_loss_list.append(sess.run(error,feed_dict={\n",
    "            x: x_test,\n",
    "            y: y_test\n",
    "        }))\n",
    "        \n",
    "        epoch_list.append(epoch+1)\n",
    "        \n",
    "        print(\"epoch \",epoch,\" finished loss = \",mse_loss_list[epoch])    "
   ]
  },
  {
   "cell_type": "code",
   "execution_count": 146,
   "id": "ac443747",
   "metadata": {},
   "outputs": [],
   "source": [
    "import matplotlib.pyplot as plt\n",
    "%matplotlib inline"
   ]
  },
  {
   "cell_type": "code",
   "execution_count": 149,
   "id": "00336632",
   "metadata": {},
   "outputs": [
    {
     "data": {
      "text/plain": [
       "Text(0.5, 0, 'Epoch ->')"
      ]
     },
     "execution_count": 149,
     "metadata": {},
     "output_type": "execute_result"
    },
    {
     "data": {
      "image/png": "[encoded data removed]",
      "text/plain": [
       "<Figure size 432x288 with 1 Axes>"
      ]
     },
     "metadata": {
      "needs_background": "light"
     },
     "output_type": "display_data"
    }
   ],
   "source": [
    "plt.plot(epoch_list,mse_loss_list,'-o')\n",
    "plt.ylabel(\"Mean Sqaure Error ->\")\n",
    "plt.xlabel(\"Epoch ->\")"
   ]
  },
  {
   "cell_type": "code",
   "execution_count": null,
   "id": "7c579530",
   "metadata": {},
   "outputs": [],
   "source": []
  }
 ],
 "metadata": {
  "kernelspec": {
   "display_name": "Python 3",
   "language": "python",
   "name": "python3"
  },
  "language_info": {
   "codemirror_mode": {
    "name": "ipython",
    "version": 3
   },
   "file_extension": ".py",
   "mimetype": "text/x-python",
   "name": "python",
   "nbconvert_exporter": "python",
   "pygments_lexer": "ipython3",
   "version": "3.6.13"
  }
 },
 "nbformat": 4,
 "nbformat_minor": 5
}
