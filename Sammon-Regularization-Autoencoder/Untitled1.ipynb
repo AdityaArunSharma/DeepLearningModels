{
 "cells": [
  {
   "cell_type": "code",
   "execution_count": 2,
   "id": "772733e0",
   "metadata": {},
   "outputs": [
    {
     "name": "stdout",
     "output_type": "stream",
     "text": [
      "(40, 3)\n",
      "(40, 2)\n"
     ]
    }
   ],
   "source": [
    "tetrahedron_points = [np.array([0., 0., 0.]), np.array([1., 0., 0.]), np.array([np.cos(np.pi/3), np.sin(np.pi/3), 0.]), np.array([0.5, 0.5/np.sqrt(3), np.sqrt(2./3.)])]\n",
    " \n",
    "sampled_points = np.concatenate([np.random.multivariate_normal(point, np.eye(3)*0.0001, 10) for point in tetrahedron_points])\n",
    " \n",
    "init_points = np.concatenate([np.random.multivariate_normal(point[:2], np.eye(2)*0.0001, 10) for point in tetrahedron_points])\n",
    "\n",
    "print(sampled_points.shape)\n",
    "print(init_points.shape)"
   ]
  },
  {
   "cell_type": "code",
   "execution_count": 101,
   "id": "5845b3c1",
   "metadata": {},
   "outputs": [],
   "source": [
    "y = [[1,2,3],\n",
    "     [2,3,4]]\n",
    "\n",
    "x = [[1,2],\n",
    "     [2,3]]\n",
    "\n",
    "import numpy as np\n",
    "batch_size = 50\n",
    "yy = np.random.rand(batch_size,784)\n",
    "xx = np.random.rand(batch_size,int(784/4))\n",
    "\n",
    "import tensorflow as tf\n",
    "y = tf.placeholder(\"float\",[None,784])\n",
    "output_hidden_2 = tf.placeholder(\"float\",[None,196])"
   ]
  },
  {
   "cell_type": "code",
   "execution_count": 102,
   "id": "ffcee008",
   "metadata": {},
   "outputs": [],
   "source": [
    "import math\n",
    "def ecludianDistance(xi,xj):    \n",
    "    s = tf.reduce_sum(tf.square(tf.subtract(xi,xj)))        \n",
    "    return tf.sqrt(s)\n",
    "\n",
    "def sammonError(y,x,batch_size):\n",
    "    s = tf.reduce_sum(\n",
    "                        tf.stack(\n",
    "                            [\n",
    "                                tf.divide((ecludianDistance(y[i],y[j]) - ecludianDistance(x[i],x[j]))**2,ecludianDistance(y[i],y[j])) for i in range(batch_size) for j in range(i+1, batch_size)\n",
    "                            ]\n",
    "                        )\n",
    "                    )\n",
    "    c = tf.reduce_sum(\n",
    "                        tf.stack(\n",
    "                            [\n",
    "                                ecludianDistance(y[i],y[j]) for i in range(batch_size) for j in range(i+1, batch_size)\n",
    "                            ]\n",
    "                        )\n",
    "                     )\n",
    "    return tf.reduce_sum(tf.divide(s,c))\n",
    "    "
   ]
  },
  {
   "cell_type": "code",
   "execution_count": 103,
   "id": "daae8684",
   "metadata": {},
   "outputs": [],
   "source": [
    "sammon = sammonError(y,output_hidden_2,batch_size)"
   ]
  },
  {
   "cell_type": "code",
   "execution_count": 104,
   "id": "4cfd24f3",
   "metadata": {},
   "outputs": [],
   "source": [
    "# sqX  = tf.reduce_sum(y*y)\n",
    "# init = sqX\n",
    "# sqX  = tf.reshape(sqX,[-1,1]) \n",
    "# sqDX = sqX - 2*tf.matmul(y,tf.transpose(y)) + tf.transpose(sqX)\n",
    "# sqDXarray = tf.stack([sqDX[i, j] for i in range(batch_size) for j in range(i+1, batch_size)])\n",
    "# DXarray = tf.sqrt(sqDXarray)\n",
    "\n",
    "# sqY = tf.reduce_sum(output_hidden_2*output_hidden_2)\n",
    "# sqY = tf.reshape(sqY, [-1, 1])\n",
    "# sqDY = sqY - 2*tf.matmul(output_hidden_2, tf.transpose(output_hidden_2)) + tf.transpose(sqY)\n",
    "# sqDYarray = tf.stack([sqDY[i, j] for i in range(batch_size) for j in range(i+1, batch_size)])\n",
    "# DYarray = tf.sqrt(sqDYarray)\n",
    "# Z = tf.reduce_sum(DXarray)\n",
    "# numerator = tf.reduce_sum(tf.divide(tf.square(DXarray-DYarray), DXarray))\n",
    "# sammon = tf.divide(numerator, Z)"
   ]
  },
  {
   "cell_type": "code",
   "execution_count": 105,
   "id": "d06e81d0",
   "metadata": {},
   "outputs": [
    {
     "name": "stdout",
     "output_type": "stream",
     "text": [
      "0.25259525\n"
     ]
    }
   ],
   "source": [
    "init = tf.global_variables_initializer()\n",
    "with tf.Session() as sess:\n",
    "    sess.run(init)\n",
    "    \n",
    "    result = (sess.run(sammon,feed_dict={\n",
    "        y: yy,\n",
    "        output_hidden_2: xx\n",
    "    }))\n",
    "    \n",
    "    print(result)\n",
    "    \n",
    "    "
   ]
  },
  {
   "cell_type": "code",
   "execution_count": null,
   "id": "7fbf1dce",
   "metadata": {},
   "outputs": [],
   "source": []
  }
 ],
 "metadata": {
  "kernelspec": {
   "display_name": "Python 3",
   "language": "python",
   "name": "python3"
  },
  "language_info": {
   "codemirror_mode": {
    "name": "ipython",
    "version": 3
   },
   "file_extension": ".py",
   "mimetype": "text/x-python",
   "name": "python",
   "nbconvert_exporter": "python",
   "pygments_lexer": "ipython3",
   "version": "3.7.10"
  }
 },
 "nbformat": 4,
 "nbformat_minor": 5
}
